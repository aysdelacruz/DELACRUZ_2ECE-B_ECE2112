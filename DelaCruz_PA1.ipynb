{
 "cells": [
  {
   "cell_type": "code",
   "execution_count": 3,
   "id": "b4b3fb2a-33eb-4aba-82e8-11b5454e2db4",
   "metadata": {},
   "outputs": [
    {
     "name": "stdout",
     "output_type": "stream",
     "text": [
      "ehllo\n",
      "acehkr\n"
     ]
    }
   ],
   "source": [
    "def alphabet_soup(str):  \n",
    "    # function that takes a word and sorts its letters alphabetically  \n",
    "\n",
    "    return \"\".join(sorted(str))  \n",
    "    # sorted(str) puts the letters in order and gives back a list  \n",
    "    # \"\".join(...) sticks the letters back together into a string  \n",
    "    # return that new string  \n",
    "\n",
    "\n",
    "print(alphabet_soup(\"hello\"))  \n",
    "# turns \"hello\" into \"ehllo\"  \n",
    "\n",
    "print(alphabet_soup(\"hacker\"))  \n",
    "# turns \"hacker\" into \"acehkr\""
   ]
  },
  {
   "cell_type": "code",
   "execution_count": 4,
   "id": "94cbbb22-80dd-4bd3-8284-c68fcdc9577c",
   "metadata": {},
   "outputs": [
    {
     "name": "stdout",
     "output_type": "stream",
     "text": [
      "Make me :)\n",
      "I am >:(\n",
      "What a :D\n",
      "I am so :(\n"
     ]
    }
   ],
   "source": [
    "def emotify(e):  \n",
    "    # this function takes in some text and swaps certain words with emojis  \n",
    "\n",
    "    e = e.replace(\"smile\", \":)\")  \n",
    "    # if it sees the word \"smile\" it changes it into \":)\"  \n",
    "\n",
    "    e = e.replace(\"grin\", \":D\")  \n",
    "    # if it sees \"grin\" it turns it into \":D\"  \n",
    "\n",
    "    e = e.replace(\"sad\", \":(\")  \n",
    "    # if it sees \"sad\" it becomes \":(\"  \n",
    "\n",
    "    e = e.replace(\"mad\", \">:(\")  \n",
    "    # if it sees \"mad\" it swaps it with \">:(\"  \n",
    "\n",
    "    return e  \n",
    "    # send back the new string with all the changes made  \n",
    "\n",
    "\n",
    "print(emotify(\"Make me smile\"))  \n",
    "# turns into \"Make me :)\"  \n",
    "\n",
    "print(emotify(\"I am mad\"))  \n",
    "# turns into \"I am >:(\"  \n",
    "\n",
    "print(emotify(\"What a grin\"))  \n",
    "# turns into \"What a :D\"  \n",
    "\n",
    "print(emotify(\"I am so sad\"))  \n",
    "# turns into \"I am so :(\"  \n"
   ]
  },
  {
   "cell_type": "code",
   "execution_count": 5,
   "id": "cb1a052e-27c1-4ed2-b47c-3f5bfca153d4",
   "metadata": {},
   "outputs": [
    {
     "name": "stdout",
     "output_type": "stream",
     "text": [
      "first: [1]\n",
      "middle: [2, 3, 4, 5]\n",
      "last: [6]\n"
     ]
    }
   ],
   "source": [
    "lst = [1, 2, 3, 4, 5, 6]  \n",
    "# a simple list with numbers 1 to 6  \n",
    "\n",
    "first = [lst[0]]  \n",
    "# first takes the very first element in the list which is 1  \n",
    "\n",
    "middle = lst[1:-1]  \n",
    "# middle takes everything from the second element up to the second to the last element  \n",
    "# so that gives [2, 3, 4, 5]  \n",
    "\n",
    "last = [lst[-1]]  \n",
    "# last takes the very last element in the list which is 6  \n",
    "\n",
    "\n",
    "print(\"first:\", first)  \n",
    "# shows [1]  \n",
    "\n",
    "print(\"middle:\", middle)  \n",
    "# shows [2, 3, 4, 5]  \n",
    "\n",
    "print(\"last:\", last)  \n",
    "# shows [6]  \n"
   ]
  }
 ],
 "metadata": {
  "kernelspec": {
   "display_name": "Python [conda env:base] *",
   "language": "python",
   "name": "conda-base-py"
  },
  "language_info": {
   "codemirror_mode": {
    "name": "ipython",
    "version": 3
   },
   "file_extension": ".py",
   "mimetype": "text/x-python",
   "name": "python",
   "nbconvert_exporter": "python",
   "pygments_lexer": "ipython3",
   "version": "3.13.5"
  }
 },
 "nbformat": 4,
 "nbformat_minor": 5
}
